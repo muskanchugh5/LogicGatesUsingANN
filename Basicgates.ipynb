{
  "nbformat": 4,
  "nbformat_minor": 0,
  "metadata": {
    "colab": {
      "name": "gates.ipynb",
      "provenance": []
    },
    "kernelspec": {
      "name": "python3",
      "display_name": "Python 3"
    }
  },
  "cells": [
    {
      "cell_type": "code",
      "metadata": {
        "id": "W4weR1Uzomoq",
        "colab_type": "code",
        "colab": {}
      },
      "source": [
        "import numpy as np\n",
        "import matplotlib.pyplot as plt"
      ],
      "execution_count": 0,
      "outputs": []
    },
    {
      "cell_type": "code",
      "metadata": {
        "id": "oso5NtK0JgqE",
        "colab_type": "code",
        "colab": {}
      },
      "source": [
        "class Layer():\n",
        "  def __init__(self,inputSize,outputSize):\n",
        "    self.W=np.random.rand(inputSize,outputSize)\n",
        "    self.B=np.random.rand(1,outputSize)\n",
        "\n",
        "  def forwardProp(self,X,Threshold):\n",
        "    self.X = X \n",
        "    self.Y = ((np.dot(X,self.W) + self.B)>Threshold)\n",
        "    return self.Y\n",
        "\n",
        "  def backProp(self,deltaE_deltaY,alpha):\n",
        "    deltaY_deltaW = self.X\n",
        "    deltaE_deltaW = np.dot(deltaY_deltaW.T,deltaE_deltaY)\n",
        "    deltaE_deltaB = deltaE_deltaY\n",
        "    deltaY_deltaX = self.W\n",
        "    deltaE_deltaX  = np.dot(deltaE_deltaY,deltaY_deltaX.T)\n",
        "\n",
        "    self.W = self.W - alpha * deltaE_deltaW\n",
        "    self.B = self.B - alpha * deltaE_deltaB\n",
        "    return deltaE_deltaX\n"
      ],
      "execution_count": 0,
      "outputs": []
    },
    {
      "cell_type": "code",
      "metadata": {
        "id": "XC7qsofKoKPi",
        "colab_type": "code",
        "colab": {
          "base_uri": "https://localhost:8080/",
          "height": 317
        },
        "outputId": "e3a2c39b-30f4-43d4-87ac-81bc1591c5e0"
      },
      "source": [
        "##AND Gate\n",
        "trainX = [[0,0],[0,1],[1,0],[1,1]]\n",
        "trainX = np.asarray(trainX)\n",
        "\n",
        "trainY = [0,0,0,1]\n",
        "epoch = 10\n",
        "Threshold = 2\n",
        "alpha = 0.2\n",
        "\n",
        "layer = Layer(2,1)\n",
        "\n",
        "for i in range(0,epoch):\n",
        "  for j in range(0,len(trainX)):\n",
        "    Y = layer.forwardProp(trainX[j].reshape((1,2)),Threshold) \n",
        "    # print(trainY[j] , Y)\n",
        "    E = 0.5*((trainY[j] - Y)**2 )\n",
        "    deltaE_deltaY = -1*(trainY[j] - Y) \n",
        "    deltaE_deltaX = layer.backProp(deltaE_deltaY,alpha)\n",
        "\n",
        "W1 = layer.W[0][0]\n",
        "W2 = layer.W[1][0]\n",
        "B = layer.B[0][0]\n",
        "# print(W1,W2)\n",
        "\n",
        "##Decision Boundary\n",
        "#W1*x1 + W2*x2 + B = 0\n",
        "\n",
        "p1 = (0,(2-B)/W2)\n",
        "p2 = ((2-B)/W1,0)\n",
        "\n",
        "m = (p1[1]-p2[1])/(p1[0]-p2[0])\n",
        "c = p1[1] - m*p1[0]\n",
        "\n",
        "x = np.arange(2)\n",
        "y = m*x + c\n",
        "plt.scatter([0,0,1,1],[0,1,0,1])\n",
        "print(\"Error = \"+str(E[0][0]))\n",
        "plt.title('AND GATE Line : '+str(W1)+'*x1 +'+str(W2)+'*x2 +'+str(B)+' = 0')\n",
        "plt.plot(x,y)"
      ],
      "execution_count": 20,
      "outputs": [
        {
          "output_type": "stream",
          "text": [
            "Error = 0.0\n"
          ],
          "name": "stdout"
        },
        {
          "output_type": "execute_result",
          "data": {
            "text/plain": [
              "[<matplotlib.lines.Line2D at 0x7fd372987ac8>]"
            ]
          },
          "metadata": {
            "tags": []
          },
          "execution_count": 20
        },
        {
          "output_type": "display_data",
          "data": {
            "image/png": "[encoded data removed]",
            "text/plain": [
              "<Figure size 432x288 with 1 Axes>"
            ]
          },
          "metadata": {
            "tags": [],
            "needs_background": "light"
          }
        }
      ]
    },
    {
      "cell_type": "code",
      "metadata": {
        "id": "M-mxAbzivOnU",
        "colab_type": "code",
        "colab": {
          "base_uri": "https://localhost:8080/",
          "height": 317
        },
        "outputId": "c5c09c29-3f95-4bf1-f40f-c9b615e30923"
      },
      "source": [
        "##OR Gate\n",
        "trainX = [[0,0],[0,1],[1,0],[1,1]]\n",
        "trainX = np.asarray(trainX)\n",
        "\n",
        "trainY = [0,1,1,1]\n",
        "epoch = 10\n",
        "Threshold = 0\n",
        "alpha = 0.2\n",
        "\n",
        "layer = Layer(2,1)\n",
        "\n",
        "for i in range(0,epoch):\n",
        "  for j in range(0,len(trainX)):\n",
        "    Y = layer.forwardProp(trainX[j].reshape((1,2)),Threshold) \n",
        "    # print(trainY[j] , Y)\n",
        "    E = 0.5*((trainY[j] - Y)**2 )\n",
        "    deltaE_deltaY = -1*(trainY[j] - Y) \n",
        "    deltaE_deltaX = layer.backProp(deltaE_deltaY,alpha)\n",
        "# print(E)\n",
        "W1 = layer.W[0][0]\n",
        "W2 = layer.W[1][0]\n",
        "B = layer.B[0][0]\n",
        "# print(W1,W2)\n",
        "\n",
        "##Decision Boundary\n",
        "#W1*x1 + W2*x2 + B = 0\n",
        "\n",
        "p1 = (0,-B/W2)\n",
        "p2 = (-B/W1,0)\n",
        "\n",
        "m = (p1[1]-p2[1])/(p1[0]-p2[0])\n",
        "c = p1[1] - m*p1[0]\n",
        "\n",
        "x = np.arange(2)\n",
        "y = m*x + c\n",
        "print(\"Error = \"+str(E[0][0]))\n",
        "plt.title('OR GATE Line : '+str(W1)+'*x1 +'+str(W2)+'*x2 +'+str(B)+' = 0')\n",
        "plt.scatter([0,0,1,1],[0,1,0,1])\n",
        "plt.plot(x,y)\n"
      ],
      "execution_count": 32,
      "outputs": [
        {
          "output_type": "stream",
          "text": [
            "Error = 0.0\n"
          ],
          "name": "stdout"
        },
        {
          "output_type": "execute_result",
          "data": {
            "text/plain": [
              "[<matplotlib.lines.Line2D at 0x7fd36e9454a8>]"
            ]
          },
          "metadata": {
            "tags": []
          },
          "execution_count": 32
        },
        {
          "output_type": "display_data",
          "data": {
            "image/png": "[encoded data removed]",
            "text/plain": [
              "<Figure size 432x288 with 1 Axes>"
            ]
          },
          "metadata": {
            "tags": [],
            "needs_background": "light"
          }
        }
      ]
    },
    {
      "cell_type": "code",
      "metadata": {
        "id": "U5dRJXoc5Ujt",
        "colab_type": "code",
        "colab": {}
      },
      "source": [
        ""
      ],
      "execution_count": 0,
      "outputs": []
    },
    {
      "cell_type": "code",
      "metadata": {
        "colab_type": "code",
        "outputId": "797cbb27-dc10-4522-d050-a517d77fe2db",
        "id": "dqjaIU0W5VAH",
        "colab": {
          "base_uri": "https://localhost:8080/",
          "height": 317
        }
      },
      "source": [
        "##NOR Gate\n",
        "trainX = [[0,0],[0,1],[1,0],[1,1]]\n",
        "trainX = np.asarray(trainX)\n",
        "\n",
        "trainY = [1,0,0,0]\n",
        "epoch = 30\n",
        "Threshold = 0\n",
        "alpha = 0.2\n",
        "\n",
        "layer = Layer(2,1)\n",
        "\n",
        "for i in range(0,epoch):\n",
        "  for j in range(0,len(trainX)):\n",
        "    Y = layer.forwardProp(trainX[j].reshape((1,2)),Threshold) \n",
        "    E = 0.5*((trainY[j] - Y)**2 )\n",
        "    deltaE_deltaY = -1*(trainY[j] - Y) \n",
        "    deltaE_deltaX = layer.backProp(deltaE_deltaY,alpha)\n",
        "# print(E)\n",
        "\n",
        "W1 = layer.W[0][0]\n",
        "W2 = layer.W[1][0]\n",
        "B = layer.B[0][0]\n",
        "\n",
        "##Decision Boundary\n",
        "#W1*x1 + W2*x2 + B = 0\n",
        "\n",
        "p1 = (0,-B/W2)\n",
        "p2 = (-B/W1,0)\n",
        "\n",
        "m = (p1[1]-p2[1])/(p1[0]-p2[0])\n",
        "c = p1[1] - m*p1[0]\n",
        "\n",
        "x = np.arange(2)\n",
        "y = m*x + c\n",
        "\n",
        "print(\"Error = \"+str(E[0][0]))\n",
        "plt.title('NOR GATE Line : '+str(W1)+'*x1 +'+str(W2)+'*x2 +'+str(B)+' = 0')\n",
        "plt.scatter([0,0,1,1],[0,1,0,1])\n",
        "plt.plot(x,y)\n"
      ],
      "execution_count": 26,
      "outputs": [
        {
          "output_type": "stream",
          "text": [
            "Error = 0.0\n"
          ],
          "name": "stdout"
        },
        {
          "output_type": "execute_result",
          "data": {
            "text/plain": [
              "[<matplotlib.lines.Line2D at 0x7fd36ed9bc50>]"
            ]
          },
          "metadata": {
            "tags": []
          },
          "execution_count": 26
        },
        {
          "output_type": "display_data",
          "data": {
            "image/png": "[encoded data removed]",
            "text/plain": [
              "<Figure size 432x288 with 1 Axes>"
            ]
          },
          "metadata": {
            "tags": [],
            "needs_background": "light"
          }
        }
      ]
    },
    {
      "cell_type": "code",
      "metadata": {
        "colab_type": "code",
        "outputId": "4c79d803-2aba-4c86-e61a-8484513df65d",
        "id": "k26jhB0t5cwo",
        "colab": {
          "base_uri": "https://localhost:8080/",
          "height": 317
        }
      },
      "source": [
        "##NAND Gate\n",
        "trainX = [[0,0],[0,1],[1,0],[1,1]]\n",
        "trainX = np.asarray(trainX)\n",
        "\n",
        "trainY = [1,1,1,0]\n",
        "epoch = 30\n",
        "Threshold =0\n",
        "alpha = 0.2\n",
        "\n",
        "layer = Layer(2,1)\n",
        "\n",
        "for i in range(0,epoch):\n",
        "  for j in range(0,len(trainX)):\n",
        "    Y = layer.forwardProp(trainX[j].reshape((1,2)),Threshold) \n",
        "    # print(trainY[j] , Y)\n",
        "    E = 0.5*((trainY[j] - Y)**2 )\n",
        "    deltaE_deltaY = -1*(trainY[j] - Y) \n",
        "    deltaE_deltaX = layer.backProp(deltaE_deltaY,alpha)\n",
        "# print(E)\n",
        "\n",
        "W1 = layer.W[0][0]\n",
        "W2 = layer.W[1][0]\n",
        "B = layer.B[0][0]\n",
        "# print(W1,W2)\n",
        "\n",
        "##Decision Boundary\n",
        "#W1*x1 + W2*x2 + B = 0\n",
        "\n",
        "p1 = (0,-B/W2)\n",
        "p2 = (-B/W1,0)\n",
        "\n",
        "\n",
        "m = (p1[1]-p2[1])/(p1[0]-p2[0])\n",
        "c = p1[1] - m*p1[0]\n",
        "\n",
        "x = np.arange(2)\n",
        "y = m*x + c\n",
        "print(\"Error = \"+str(E[0][0]))\n",
        "plt.title('AND GATE Line : '+str(W1)+'*x1 +'+str(W2)+'*x2 +'+str(B)+' = 0')\n",
        "plt.scatter([0,0,1,1],[0,1,0,1])\n",
        "plt.plot(x,y)\n"
      ],
      "execution_count": 25,
      "outputs": [
        {
          "output_type": "stream",
          "text": [
            "Error = 0.0\n"
          ],
          "name": "stdout"
        },
        {
          "output_type": "execute_result",
          "data": {
            "text/plain": [
              "[<matplotlib.lines.Line2D at 0x7fd36f035ba8>]"
            ]
          },
          "metadata": {
            "tags": []
          },
          "execution_count": 25
        },
        {
          "output_type": "display_data",
          "data": {
            "image/png": "[encoded data removed]",
            "text/plain": [
              "<Figure size 432x288 with 1 Axes>"
            ]
          },
          "metadata": {
            "tags": [],
            "needs_background": "light"
          }
        }
      ]
    },
    {
      "cell_type": "code",
      "metadata": {
        "id": "qX8j722oLtVV",
        "colab_type": "code",
        "colab": {}
      },
      "source": [
        ""
      ],
      "execution_count": 0,
      "outputs": []
    }
  ]
}